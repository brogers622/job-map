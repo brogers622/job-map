{
 "cells": [
  {
   "cell_type": "code",
   "execution_count": 35,
   "id": "7661e5af",
   "metadata": {},
   "outputs": [],
   "source": [
    "#%pip install -U python-jobspy\n",
    "#%pip install geopy\n",
    "#%pip install ipyleaflet"
   ]
  },
  {
   "cell_type": "code",
   "execution_count": 1,
   "id": "d146c708",
   "metadata": {},
   "outputs": [],
   "source": [
    "import csv\n",
    "from jobspy import scrape_jobs\n",
    "from ipyleaflet import Map, Marker\n",
    "from geopy.geocoders import Nominatim\n",
    "geolocator = Nominatim(user_agent=\"my_geocoder_app\")"
   ]
  },
  {
   "cell_type": "code",
   "execution_count": 3,
   "id": "de1efdd8",
   "metadata": {},
   "outputs": [
    {
     "name": "stderr",
     "output_type": "stream",
     "text": [
      "2025-08-09 15:23:51,363 - INFO - JobSpy:Linkedin - finished scraping\n"
     ]
    }
   ],
   "source": [
    "jobs = scrape_jobs(\n",
    "    site_name = \"linkedin\", #\"indeed\", \"zip_recruiter\", \"google\", \"glassdoor\", \"bayt\", \"naukri\", \"bdjobs\"\n",
    "    search_term =\"engineer\",\n",
    "    #google_search_term=\"software engineer jobs near San Francisco, CA since yesterday\",\n",
    "    location=\"San Francisco, CA\",\n",
    "    results_wanted=20,\n",
    "    hours_old=72,\n",
    "    #country_indeed='USA',\n",
    "    \n",
    "    # linkedin_fetch_description=True # gets more info such as description, direct job url (slower)\n",
    "    # proxies=[\"208.195.175.46:65095\", \"208.195.175.45:65095\", \"localhost\"],\n",
    ")\n",
    "#print(f\"Found {len(jobs)} jobs\")\n",
    "#print(jobs.head())\n",
    "jobs.to_csv(\"jobs.csv\", quoting=csv.QUOTE_NONNUMERIC, escapechar=\"\\\\\", index=False) # to_excel"
   ]
  },
  {
   "cell_type": "code",
   "execution_count": null,
   "id": "8f1793db",
   "metadata": {},
   "outputs": [
    {
     "data": {
      "application/vnd.jupyter.widget-view+json": {
       "model_id": "4979f92f860d4454b74459a1cfc55062",
       "version_major": 2,
       "version_minor": 0
      },
      "text/plain": [
       "Map(center=[37, -100], controls=(ZoomControl(options=['position', 'zoom_in_text', 'zoom_in_title', 'zoom_out_t…"
      ]
     },
     "metadata": {},
     "output_type": "display_data"
    }
   ],
   "source": [
    "center = (37,-100)\n",
    "map = Map(center=center, zoom=4)\n",
    "\n",
    "for locStr in jobs.location:\n",
    "    fullPlaceName = geolocator.geocode(locStr)\n",
    "    if fullPlaceName:\n",
    "        coords = (fullPlaceName.latitude,fullPlaceName.longitude)\n",
    "    else:\n",
    "        coords = []\n",
    "    \n",
    "    if coords:\n",
    "        map.add(Marker(location=coords, draggable=False))\n",
    "\n",
    "display(map)"
   ]
  },
  {
   "cell_type": "code",
   "execution_count": null,
   "id": "c3daf0c2",
   "metadata": {},
   "outputs": [
    {
     "ename": "NameError",
     "evalue": "name 'jobs' is not defined",
     "output_type": "error",
     "traceback": [
      "\u001b[1;31m---------------------------------------------------------------------------\u001b[0m",
      "\u001b[1;31mNameError\u001b[0m                                 Traceback (most recent call last)",
      "Cell \u001b[1;32mIn[4], line 4\u001b[0m\n\u001b[0;32m      1\u001b[0m cities \u001b[38;5;241m=\u001b[39m []\n\u001b[0;32m      2\u001b[0m states \u001b[38;5;241m=\u001b[39m []\n\u001b[1;32m----> 4\u001b[0m \u001b[38;5;28;01mfor\u001b[39;00m locStr \u001b[38;5;129;01min\u001b[39;00m jobs\u001b[38;5;241m.\u001b[39mlocation: \u001b[38;5;66;03m#extract column of \"city, SS\" strings from dataframe\u001b[39;00m\n\u001b[0;32m      5\u001b[0m     \u001b[38;5;28;01mif\u001b[39;00m locStr: \u001b[38;5;66;03m#check that city, state string is not empty\u001b[39;00m\n\u001b[0;32m      6\u001b[0m         [newCity,newState] \u001b[38;5;241m=\u001b[39m locStr\u001b[38;5;241m.\u001b[39msplit(\u001b[38;5;124m\"\u001b[39m\u001b[38;5;124m, \u001b[39m\u001b[38;5;124m\"\u001b[39m)\n",
      "\u001b[1;31mNameError\u001b[0m: name 'jobs' is not defined"
     ]
    }
   ],
   "source": [
    "cities = []\n",
    "states = []\n",
    "\n",
    "for locStr in jobs.location: #extract column of \"city, SS\" strings from dataframe\n",
    "    if locStr: #check that city, state string is not empty\n",
    "        [newCity,newState] = locStr.split(\", \")\n",
    "        cities.append(newCity)\n",
    "        states.append(newState)\n",
    "\n",
    "print(len(jobs.location))\n",
    "print(cities)\n",
    "print(states)\n",
    "len(cities)"
   ]
  },
  {
   "cell_type": "code",
   "execution_count": 5,
   "id": "11af263d",
   "metadata": {},
   "outputs": [
    {
     "name": "stdout",
     "output_type": "stream",
     "text": [
      "Latitude: 37.7792588, Longitude: -122.4193286\n"
     ]
    }
   ],
   "source": [
    "testplace = \"San Francisco, CA\"\n",
    "\n",
    "location = geolocator.geocode(testplace)\n",
    "if location:\n",
    "    latitude = location.latitude\n",
    "    longitude = location.longitude\n",
    "    print(f\"Latitude: {latitude}, Longitude: {longitude}\")\n",
    "else:\n",
    "    print(\"Location not found.\")\n",
    "\n",
    "    "
   ]
  },
  {
   "cell_type": "code",
   "execution_count": null,
   "id": "3a895339",
   "metadata": {},
   "outputs": [],
   "source": []
  }
 ],
 "metadata": {
  "kernelspec": {
   "display_name": "base",
   "language": "python",
   "name": "python3"
  },
  "language_info": {
   "codemirror_mode": {
    "name": "ipython",
    "version": 3
   },
   "file_extension": ".py",
   "mimetype": "text/x-python",
   "name": "python",
   "nbconvert_exporter": "python",
   "pygments_lexer": "ipython3",
   "version": "3.12.7"
  }
 },
 "nbformat": 4,
 "nbformat_minor": 5
}
